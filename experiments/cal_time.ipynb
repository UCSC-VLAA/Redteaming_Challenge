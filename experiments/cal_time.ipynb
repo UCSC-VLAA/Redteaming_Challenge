{
 "cells": [
  {
   "cell_type": "markdown",
   "metadata": {},
   "source": [
    "# A tool to calculate the running time used\n",
    "you need to modify the `model`, in choices [\"7b\", \"13b\"], to choose which model's running time you want to calculate. And note the `logdir` is also needed to be modify if your output path is not `bash_scripts/out`"
   ]
  },
  {
   "cell_type": "code",
   "execution_count": 3,
   "metadata": {},
   "outputs": [
    {
     "name": "stdout",
     "output_type": "stream",
     "text": [
      "79:56:2\n"
     ]
    }
   ],
   "source": [
    "import os\n",
    "# choices = [\"7b\", \"13b\"]\n",
    "model = \"13b\"\n",
    "files = []\n",
    "\n",
    "logdir = 'bash_scripts/out'\n",
    "all_files = os.listdir(logdir)\n",
    "for file in all_files:\n",
    "    if model in file:\n",
    "        files.append(os.path.join(logdir, file))\n",
    "\n",
    "total_hours = 0\n",
    "total_minutes = 0\n",
    "total_seconds = 0\n",
    "for file_path in files:\n",
    "    file = open(file_path, 'r')\n",
    "    content = file.read()\n",
    "    index = content.find('runtime Thu Jan  1 ')\n",
    "    if index != -1:        \n",
    "        total_hours += int(content[index+19:index+21])\n",
    "        total_minutes += int(content[index+22:index+24])\n",
    "        total_seconds += int(content[index+25:index+27])\n",
    "    else:\n",
    "        print(file_path)\n",
    "total_minutes += total_seconds // 60\n",
    "total_seconds = total_seconds % 60\n",
    "total_hours += total_minutes // 60\n",
    "total_minutes = total_minutes % 60\n",
    "\n",
    "print(f'{total_hours}:{total_minutes}:{total_seconds}')"
   ]
  }
 ],
 "metadata": {
  "kernelspec": {
   "display_name": "prefix_surffix",
   "language": "python",
   "name": "python3"
  },
  "language_info": {
   "codemirror_mode": {
    "name": "ipython",
    "version": 3
   },
   "file_extension": ".py",
   "mimetype": "text/x-python",
   "name": "python",
   "nbconvert_exporter": "python",
   "pygments_lexer": "ipython3",
   "version": "3.10.10"
  }
 },
 "nbformat": 4,
 "nbformat_minor": 2
}
